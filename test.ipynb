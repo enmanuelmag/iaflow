{
 "cells": [
  {
   "cell_type": "code",
   "execution_count": 9,
   "metadata": {},
   "outputs": [],
   "source": [
    "import os\n",
    "import json\n",
    "import shutil\n",
    "import iaflow\n",
    "import importlib\n",
    "import pickle as pkl\n",
    "import tensorflow as tf\n",
    "\n",
    "importlib.reload(iaflow)\n",
    "IAFlow = iaflow.IAFlow"
   ]
  },
  {
   "cell_type": "code",
   "execution_count": 10,
   "metadata": {},
   "outputs": [],
   "source": [
    "def custom_builder(input_shape):\n",
    "  model = tf.keras.models.Sequential([\n",
    "    tf.keras.layers.Input(input_shape),\n",
    "    tf.keras.layers.Dense(units=512, activation='relu'),\n",
    "    tf.keras.layers.Dense(units=512, activation='relu'),\n",
    "    tf.keras.layers.Dense(units=1, activation='sigmoid')\n",
    "  ])\n",
    "  return model\n",
    "\n",
    "params_notifier = { # Parameters for notifier, see documentation https://pypi.org/project/notify-function/#description\n",
    "  'title': 'Training update',\n",
    "  'webhook_url': os.environ.get('WEBHOOK_URL'),\n",
    "  'frequency_epoch': 20 # This will send a notification every 20 epochs, by default it is every epoch\n",
    "}\n",
    "\n",
    "all_data = tf.data.Dataset.from_tensor_slices((\n",
    "  tf.random.uniform([1000, 2]),\n",
    "  tf.random.uniform([1000, 1])\n",
    "))\n",
    "train_ds = all_data.take(5)\n",
    "val_ds = all_data.skip(5)"
   ]
  },
  {
   "cell_type": "code",
   "execution_count": 11,
   "metadata": {},
   "outputs": [],
   "source": [
    "# Creation of the IAFlow instance\n",
    "shutil.rmtree('./models', ignore_errors=True)\n",
    "ia_maker = IAFlow(\n",
    "  models_folder='./models',\n",
    "  params_notifier=params_notifier,\n",
    "  builder_function=custom_builder\n",
    ")"
   ]
  },
  {
   "cell_type": "code",
   "execution_count": 12,
   "metadata": {},
   "outputs": [
    {
     "name": "stdout",
     "output_type": "stream",
     "text": [
      "Dataset dataset_1 added\n"
     ]
    },
    {
     "data": {
      "text/plain": [
       "True"
      ]
     },
     "execution_count": 12,
     "metadata": {},
     "output_type": "execute_result"
    }
   ],
   "source": [
    "ia_maker.add_dataset(\n",
    "  name='dataset_1',\n",
    "  epochs=10,\n",
    "  batch_size=32,\n",
    "  shuffle_buffer=512,\n",
    "  train_ds=train_ds,\n",
    "  val_ds=val_ds\n",
    ")"
   ]
  },
  {
   "cell_type": "code",
   "execution_count": 13,
   "metadata": {},
   "outputs": [
    {
     "name": "stdout",
     "output_type": "stream",
     "text": [
      "GPU info: /physical_device:GPU:0\n",
      "\n",
      "\n",
      "Model model_1/2022.07.18_10.04.03 added\n"
     ]
    }
   ],
   "source": [
    "model_1_data = ia_maker.add_model(\n",
    "  model_name='model_1',\n",
    "  model_params={ 'input_shape': (2, 1) }, # Parameters for builder function\n",
    "  load_model_params={}, # Parameters for model loading, see documentation of tf.keras.models.load_model\n",
    "  compile_params={ # Parameters for model compilation, see documentation tf.keras.models.compile\n",
    "    'optimizer': 'adam', 'loss': 'mse',\n",
    "    'metrics': ['accuracy']\n",
    "  },\n",
    ")\n",
    "#print(f'Data of model_1: {json.dumps(model_1_data, indent=4)}')"
   ]
  },
  {
   "cell_type": "code",
   "execution_count": 14,
   "metadata": {},
   "outputs": [
    {
     "name": "stdout",
     "output_type": "stream",
     "text": [
      "Show all models:\n",
      "Models:\n",
      "  model_1\n",
      "    2022.07.18_10.04.03\n",
      "      model_ident: model_1_(2, 1)\n",
      "      model_params: {'input_shape': (2, 1)}\n",
      "      compile_params: {'optimizer': 'adam', 'loss': 'mse', 'metrics': ['accuracy']}\n",
      "      load_model_params: {'filepath': './models/model_1/2022.07.18_10.04.03/model_1_(2, 1)_checkpoint.h5'}\n",
      "      check_path: ./models/model_1/2022.07.18_10.04.03/model_1_(2, 1)_checkpoint.h5\n",
      "      path_model: ./models/model_1/2022.07.18_10.04.03\n",
      "      log_dir: ./models/model_1/2022.07.18_10.04.03/logs\n"
     ]
    }
   ],
   "source": [
    "print('Show all models:')\n",
    "ia_maker.show_models()"
   ]
  },
  {
   "cell_type": "code",
   "execution_count": 17,
   "metadata": {},
   "outputs": [
    {
     "name": "stdout",
     "output_type": "stream",
     "text": [
      "Force creation is False. Deleting old logs and model\n",
      "Creating model\n",
      "Epoch 1/5\n"
     ]
    },
    {
     "name": "stderr",
     "output_type": "stream",
     "text": [
      "2022-07-18 10:04:58.540624: W tensorflow/core/platform/profile_utils/cpu_utils.cc:128] Failed to get CPU frequency: 0 Hz\n",
      "2022-07-18 10:04:58.549085: I tensorflow/core/grappler/optimizers/custom_graph_optimizer_registry.cc:113] Plugin optimizer for device_type GPU is enabled.\n"
     ]
    },
    {
     "name": "stdout",
     "output_type": "stream",
     "text": [
      "1/1 [==============================] - ETA: 0s - loss: 0.1005 - accuracy: 0.0000e+00"
     ]
    },
    {
     "name": "stderr",
     "output_type": "stream",
     "text": [
      "2022-07-18 10:04:58.969940: I tensorflow/core/grappler/optimizers/custom_graph_optimizer_registry.cc:113] Plugin optimizer for device_type GPU is enabled.\n"
     ]
    },
    {
     "name": "stdout",
     "output_type": "stream",
     "text": [
      "1/1 [==============================] - 1s 1s/step - loss: 0.1005 - accuracy: 0.0000e+00 - val_loss: 0.0842 - val_accuracy: 0.0000e+00\n",
      "Epoch 2/5\n",
      "1/1 [==============================] - 0s 352ms/step - loss: 0.1004 - accuracy: 0.0000e+00 - val_loss: 0.0843 - val_accuracy: 0.0000e+00\n",
      "Epoch 3/5\n",
      "1/1 [==============================] - 0s 364ms/step - loss: 0.1002 - accuracy: 0.0000e+00 - val_loss: 0.0844 - val_accuracy: 0.0000e+00\n",
      "Epoch 4/5\n",
      "1/1 [==============================] - 0s 316ms/step - loss: 0.1001 - accuracy: 0.0000e+00 - val_loss: 0.0844 - val_accuracy: 0.0000e+00\n",
      "Epoch 5/5\n",
      "1/1 [==============================] - 1s 551ms/step - loss: 0.1000 - accuracy: 0.0000e+00 - val_loss: 0.0844 - val_accuracy: 0.0000e+00\n",
      "Training time: 2.994709014892578\n"
     ]
    }
   ],
   "source": [
    "ia_maker.train(\n",
    "  model_1_data,\n",
    "  epochs=5,\n",
    "  dataset_name='dataset_1'\n",
    ")"
   ]
  },
  {
   "cell_type": "code",
   "execution_count": 18,
   "metadata": {},
   "outputs": [
    {
     "name": "stdout",
     "output_type": "stream",
     "text": [
      "Loading model trained\n",
      "Loading model from ./models/model_1/2022.07.18_10.04.03/model_1_(2, 1)_checkpoint.h5\n",
      "Epoch 1/5\n"
     ]
    },
    {
     "name": "stderr",
     "output_type": "stream",
     "text": [
      "2022-07-18 10:05:22.334058: I tensorflow/core/grappler/optimizers/custom_graph_optimizer_registry.cc:113] Plugin optimizer for device_type GPU is enabled.\n"
     ]
    },
    {
     "name": "stdout",
     "output_type": "stream",
     "text": [
      "1/1 [==============================] - ETA: 0s - loss: 0.0998 - accuracy: 0.0000e+00"
     ]
    },
    {
     "name": "stderr",
     "output_type": "stream",
     "text": [
      "2022-07-18 10:05:22.783857: I tensorflow/core/grappler/optimizers/custom_graph_optimizer_registry.cc:113] Plugin optimizer for device_type GPU is enabled.\n"
     ]
    },
    {
     "name": "stdout",
     "output_type": "stream",
     "text": [
      "1/1 [==============================] - 1s 1s/step - loss: 0.0998 - accuracy: 0.0000e+00 - val_loss: 0.0843 - val_accuracy: 0.0000e+00\n",
      "Epoch 2/5\n",
      "1/1 [==============================] - 0s 425ms/step - loss: 0.0996 - accuracy: 0.0000e+00 - val_loss: 0.0844 - val_accuracy: 0.0000e+00\n",
      "Epoch 3/5\n",
      "1/1 [==============================] - 0s 353ms/step - loss: 0.0995 - accuracy: 0.0000e+00 - val_loss: 0.0845 - val_accuracy: 0.0000e+00\n",
      "Epoch 4/5\n",
      "1/1 [==============================] - 0s 498ms/step - loss: 0.0993 - accuracy: 0.0000e+00 - val_loss: 0.0846 - val_accuracy: 0.0000e+00\n",
      "Epoch 5/5\n",
      "1/1 [==============================] - 0s 422ms/step - loss: 0.0992 - accuracy: 0.0000e+00 - val_loss: 0.0847 - val_accuracy: 0.0000e+00\n",
      "Training time: 2.79247784614563\n"
     ]
    }
   ],
   "source": [
    "ia_maker.clear_session()\n",
    "\n",
    "print('Loading model trained')\n",
    "ia_maker.train(\n",
    "  model_1_data,\n",
    "  epochs=5,\n",
    "  dataset_name='dataset_1'\n",
    ")"
   ]
  },
  {
   "cell_type": "code",
   "execution_count": 19,
   "metadata": {},
   "outputs": [
    {
     "name": "stdout",
     "output_type": "stream",
     "text": [
      "Model model_1/2022.07.18_10.04.03 deleted\n"
     ]
    },
    {
     "data": {
      "text/plain": [
       "True"
      ]
     },
     "execution_count": 19,
     "metadata": {},
     "output_type": "execute_result"
    }
   ],
   "source": [
    "ia_maker.delete_model(model_1_data, delete_folder=True)"
   ]
  }
 ],
 "metadata": {
  "kernelspec": {
   "display_name": "Python 3.10.5 ('tfenv')",
   "language": "python",
   "name": "python3"
  },
  "language_info": {
   "codemirror_mode": {
    "name": "ipython",
    "version": 3
   },
   "file_extension": ".py",
   "mimetype": "text/x-python",
   "name": "python",
   "nbconvert_exporter": "python",
   "pygments_lexer": "ipython3",
   "version": "3.10.5"
  },
  "orig_nbformat": 4,
  "vscode": {
   "interpreter": {
    "hash": "4cdf88b7f8c35ea34ee1241d86191c88080002b390c949db4a1637ff0cb1d7b7"
   }
  }
 },
 "nbformat": 4,
 "nbformat_minor": 2
}
