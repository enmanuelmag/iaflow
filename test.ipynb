{
 "cells": [
  {
   "cell_type": "code",
   "execution_count": 98,
   "metadata": {},
   "outputs": [],
   "source": [
    "import os\n",
    "import json\n",
    "import shutil\n",
    "import iaflow\n",
    "import importlib\n",
    "import pickle as pkl\n",
    "import tensorflow as tf\n",
    "\n",
    "importlib.reload(iaflow)\n",
    "IAFlow = iaflow.IAFlow"
   ]
  },
  {
   "cell_type": "code",
   "execution_count": 104,
   "metadata": {},
   "outputs": [],
   "source": [
    "def custom_builder(input_shape):\n",
    "  model = tf.keras.models.Sequential([\n",
    "    tf.keras.layers.Input(input_shape),\n",
    "    tf.keras.layers.Dense(units=512, activation='relu'),\n",
    "    tf.keras.layers.Dense(units=512, activation='relu'),\n",
    "    tf.keras.layers.Dense(units=1, activation='sigmoid')\n",
    "  ])\n",
    "  return model\n",
    "\n",
    "params_notifier = { # Parameters for notifier, see documentation https://pypi.org/project/notify-function/#description\n",
    "  'title': 'Training update',\n",
    "  'webhook_url': os.environ.get('WEBHOOK_URL'),\n",
    "  'frequency_epoch': 20 # This will send a notification every 20 epochs, by default it is every epoch\n",
    "}\n",
    "\n",
    "all_data = tf.data.Dataset.from_tensor_slices((\n",
    "  tf.random.uniform([1000, 2]),\n",
    "  tf.random.uniform([1000, 1])\n",
    "))\n",
    "train_ds = all_data.take(5)\n",
    "val_ds = all_data.skip(5)"
   ]
  },
  {
   "cell_type": "code",
   "execution_count": 105,
   "metadata": {},
   "outputs": [],
   "source": [
    "# Creation of the IAFlow instance\n",
    "shutil.rmtree('./models', ignore_errors=True)\n",
    "ia_maker = IAFlow(\n",
    "  models_folder='./models',\n",
    "  val_ds=val_ds,\n",
    "  train_ds=train_ds,\n",
    "  params_notifier=params_notifier,\n",
    "  builder_function=custom_builder\n",
    ")"
   ]
  },
  {
   "cell_type": "code",
   "execution_count": 106,
   "metadata": {},
   "outputs": [
    {
     "name": "stdout",
     "output_type": "stream",
     "text": [
      "GPU info: /physical_device:GPU:0\n",
      "\n",
      "\n",
      "Model model_1/2022.07.13_21.01.34 added\n"
     ]
    }
   ],
   "source": [
    "model_1_data = ia_maker.add_model(\n",
    "  model_name='model_1',\n",
    "  model_params={ 'input_shape': (2, 1) }, # Parameters for builder function\n",
    "  load_model_params={}, # Parameters for model loading, see documentation of tf.keras.models.load_model\n",
    "  compile_params={ # Parameters for model compilation, see documentation tf.keras.models.compile\n",
    "    'optimizer': 'adam', 'loss': 'mse',\n",
    "    'metrics': ['accuracy']\n",
    "  },\n",
    ")\n",
    "#print(f'Data of model_1: {json.dumps(model_1_data, indent=4)}')"
   ]
  },
  {
   "cell_type": "code",
   "execution_count": 107,
   "metadata": {},
   "outputs": [
    {
     "name": "stdout",
     "output_type": "stream",
     "text": [
      "Show all models:\n",
      "Models:\n",
      "  model_1\n",
      "    2022.07.13_21.01.34\n",
      "      model_ident: model_1_(2, 1)\n",
      "      model_params: {'input_shape': (2, 1)}\n",
      "      compile_params: {'optimizer': 'adam', 'loss': 'mse', 'metrics': ['accuracy']}\n",
      "      load_model_params: {'filepath': './models/model_1/2022.07.13_21.01.34/model_1_(2, 1)_checkpoint.h5'}\n",
      "      check_path: ./models/model_1/2022.07.13_21.01.34/model_1_(2, 1)_checkpoint.h5\n",
      "      path_model: ./models/model_1/2022.07.13_21.01.34\n",
      "      log_dir: ./models/model_1/2022.07.13_21.01.34/logs\n"
     ]
    }
   ],
   "source": [
    "print('Show all models:')\n",
    "ia_maker.show_models()"
   ]
  },
  {
   "cell_type": "code",
   "execution_count": 108,
   "metadata": {},
   "outputs": [
    {
     "name": "stdout",
     "output_type": "stream",
     "text": [
      "Force creation is False. Deleting old logs and model\n",
      "Creating model\n",
      "Epoch 1/5\n"
     ]
    },
    {
     "name": "stderr",
     "output_type": "stream",
     "text": [
      "2022-07-13 21:01:48.179464: I tensorflow/core/grappler/optimizers/custom_graph_optimizer_registry.cc:113] Plugin optimizer for device_type GPU is enabled.\n"
     ]
    },
    {
     "name": "stdout",
     "output_type": "stream",
     "text": [
      "1/1 [==============================] - ETA: 0s - loss: 0.1004 - accuracy: 0.0000e+00"
     ]
    },
    {
     "name": "stderr",
     "output_type": "stream",
     "text": [
      "2022-07-13 21:01:48.573228: I tensorflow/core/grappler/optimizers/custom_graph_optimizer_registry.cc:113] Plugin optimizer for device_type GPU is enabled.\n"
     ]
    },
    {
     "name": "stdout",
     "output_type": "stream",
     "text": [
      "1/1 [==============================] - 1s 1s/step - loss: 0.1004 - accuracy: 0.0000e+00 - val_loss: 0.0843 - val_accuracy: 0.0000e+00\n",
      "Epoch 2/5\n",
      "1/1 [==============================] - 0s 226ms/step - loss: 0.1003 - accuracy: 0.0000e+00 - val_loss: 0.0843 - val_accuracy: 0.0000e+00\n",
      "Epoch 3/5\n",
      "1/1 [==============================] - 0s 236ms/step - loss: 0.1002 - accuracy: 0.0000e+00 - val_loss: 0.0844 - val_accuracy: 0.0000e+00\n",
      "Epoch 4/5\n",
      "1/1 [==============================] - 0s 237ms/step - loss: 0.1001 - accuracy: 0.0000e+00 - val_loss: 0.0843 - val_accuracy: 0.0000e+00\n",
      "Epoch 5/5\n",
      "1/1 [==============================] - 0s 248ms/step - loss: 0.0999 - accuracy: 0.0000e+00 - val_loss: 0.0843 - val_accuracy: 0.0000e+00\n",
      "Training time: 2.0940680503845215\n"
     ]
    }
   ],
   "source": [
    "ia_maker.train(\n",
    "  model_1_data,\n",
    "  batch=32,\n",
    "  epochs=5\n",
    ")"
   ]
  },
  {
   "cell_type": "code",
   "execution_count": 109,
   "metadata": {},
   "outputs": [
    {
     "name": "stdout",
     "output_type": "stream",
     "text": [
      "Loading model trained\n",
      "Loading model from ./models/model_1/2022.07.13_21.01.34/model_1_(2, 1)_checkpoint.h5\n",
      "Epoch 1/5\n",
      "1/1 [==============================] - ETA: 0s - loss: 0.0998 - accuracy: 0.0000e+00"
     ]
    },
    {
     "name": "stderr",
     "output_type": "stream",
     "text": [
      "2022-07-13 21:01:55.320181: I tensorflow/core/grappler/optimizers/custom_graph_optimizer_registry.cc:113] Plugin optimizer for device_type GPU is enabled.\n",
      "2022-07-13 21:01:55.528123: I tensorflow/core/grappler/optimizers/custom_graph_optimizer_registry.cc:113] Plugin optimizer for device_type GPU is enabled.\n"
     ]
    },
    {
     "name": "stdout",
     "output_type": "stream",
     "text": [
      "1/1 [==============================] - 1s 699ms/step - loss: 0.0998 - accuracy: 0.0000e+00 - val_loss: 0.0845 - val_accuracy: 0.0000e+00\n",
      "Epoch 2/5\n",
      "1/1 [==============================] - 0s 431ms/step - loss: 0.0996 - accuracy: 0.0000e+00 - val_loss: 0.0845 - val_accuracy: 0.0000e+00\n",
      "Epoch 3/5\n",
      "1/1 [==============================] - 0s 410ms/step - loss: 0.0995 - accuracy: 0.0000e+00 - val_loss: 0.0845 - val_accuracy: 0.0000e+00\n",
      "Epoch 4/5\n",
      "1/1 [==============================] - 0s 336ms/step - loss: 0.0993 - accuracy: 0.0000e+00 - val_loss: 0.0846 - val_accuracy: 0.0000e+00\n",
      "Epoch 5/5\n",
      "1/1 [==============================] - 0s 276ms/step - loss: 0.0992 - accuracy: 0.0000e+00 - val_loss: 0.0847 - val_accuracy: 0.0000e+00\n",
      "Training time: 2.171844959259033\n"
     ]
    }
   ],
   "source": [
    "ia_maker.clear_session()\n",
    "\n",
    "print('Loading model trained')\n",
    "ia_maker.train(\n",
    "  model_1_data,\n",
    "  batch=32,\n",
    "  epochs=5,\n",
    "  val_ds=val_ds,\n",
    "  train_ds=train_ds\n",
    ")"
   ]
  },
  {
   "cell_type": "code",
   "execution_count": 110,
   "metadata": {},
   "outputs": [
    {
     "name": "stdout",
     "output_type": "stream",
     "text": [
      "Model model_1/2022.07.13_21.01.34 deleted\n"
     ]
    }
   ],
   "source": [
    "ia_maker.delete_model(model_1_data, delete_folder=True)"
   ]
  }
 ],
 "metadata": {
  "kernelspec": {
   "display_name": "Python 3.8.13 ('tf-env')",
   "language": "python",
   "name": "python3"
  },
  "language_info": {
   "codemirror_mode": {
    "name": "ipython",
    "version": 3
   },
   "file_extension": ".py",
   "mimetype": "text/x-python",
   "name": "python",
   "nbconvert_exporter": "python",
   "pygments_lexer": "ipython3",
   "version": "3.8.13"
  },
  "orig_nbformat": 4,
  "vscode": {
   "interpreter": {
    "hash": "737058b5fd771837a459d38124f1435f0ba440e2f6c9fded2af6364b02fabd91"
   }
  }
 },
 "nbformat": 4,
 "nbformat_minor": 2
}
